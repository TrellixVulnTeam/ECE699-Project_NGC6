{
 "cells": [
  {
   "cell_type": "code",
   "execution_count": null,
   "metadata": {},
   "outputs": [],
   "source": [
    "%matplotlib inline"
   ]
  },
  {
   "cell_type": "markdown",
   "metadata": {},
   "source": [
    "\n",
    "\n",
    "Get Started with VTA\n",
    "====================\n",
    "**Author**: `Thierry Moreau <https://homes.cs.washington.edu/~moreau/>`_\n",
    "\n",
    "This is an introduction tutorial on how to use TVM to program the VTA design.\n",
    "\n",
    "In this tutorial, we will demonstrate the basic TVM workflow to implement\n",
    "a vector addition on the VTA design's vector ALU.\n",
    "This process includes specific scheduling transformations necessary to lower\n",
    "computation down to low-level accelerator operations.\n",
    "\n",
    "To begin, we need to import TVM which is our deep learning optimizing compiler.\n",
    "We also need to import the VTA python package which contains VTA specific\n",
    "extensions for TVM to target the VTA design.\n",
    "\n"
   ]
  },
  {
   "cell_type": "code",
   "execution_count": null,
   "metadata": {},
   "outputs": [],
   "source": [
    "from __future__ import absolute_import, print_function\n",
    "\n",
    "import os\n",
    "import tvm\n",
    "from tvm import te\n",
    "import vta\n",
    "import numpy as np"
   ]
  },
  {
   "cell_type": "markdown",
   "metadata": {},
   "source": [
    "Loading in VTA Parameters\n",
    "~~~~~~~~~~~~~~~~~~~~~~~~~\n",
    "VTA is a modular and customizable design. Consequently, the user\n",
    "is free to modify high-level hardware parameters that affect\n",
    "the hardware design layout.\n",
    "These parameters are specified in the :code:`vta_config.json` file by their\n",
    ":code:`log2` values.\n",
    "These VTA parameters can be loaded with the :code:`vta.get_env`\n",
    "function.\n",
    "\n",
    "Finally, the TVM target is also specified in the :code:`vta_config.json` file.\n",
    "When set to *sim*, execution will take place inside of a behavioral\n",
    "VTA simulator.\n",
    "If you want to run this tutorial on the Pynq FPGA development platform,\n",
    "follow the *VTA Pynq-Based Testing Setup* guide.\n",
    "\n"
   ]
  },
  {
   "cell_type": "code",
   "execution_count": null,
   "metadata": {},
   "outputs": [],
   "source": [
    "env = vta.get_env()"
   ]
  },
  {
   "cell_type": "markdown",
   "metadata": {},
   "source": [
    "FPGA Programming\n",
    "----------------\n",
    "When targeting the Pynq FPGA development board, we need to configure\n",
    "the board with a VTA bitstream.\n",
    "\n"
   ]
  },
  {
   "cell_type": "code",
   "execution_count": null,
   "metadata": {},
   "outputs": [],
   "source": [
    "# We'll need the TVM RPC module and the VTA simulator module\n",
    "from tvm import rpc\n",
    "from tvm.contrib import utils\n",
    "from vta.testing import simulator\n",
    "\n",
    "# We read the Pynq RPC host IP address and port number from the OS environment\n",
    "host = os.environ.get(\"VTA_RPC_HOST\", \"192.168.101.199\")\n",
    "port = int(os.environ.get(\"VTA_RPC_PORT\", \"9091\"))\n",
    "\n",
    "# We configure both the bitstream and the runtime system on the Pynq\n",
    "# to match the VTA configuration specified by the vta_config.json file.\n",
    "if env.TARGET == \"pynq\" or env.TARGET == \"de10pro\":\n",
    "\n",
    "    # Make sure that TVM was compiled with RPC=1\n",
    "    assert tvm.runtime.enabled(\"rpc\")\n",
    "    remote = rpc.connect(host, port)\n",
    "\n",
    "    # Reconfigure the JIT runtime\n",
    "    vta.reconfig_runtime(remote)\n",
    "\n",
    "    # Program the FPGA with a pre-compiled VTA bitstream.\n",
    "    # You can program the FPGA with your own custom bitstream\n",
    "    # by passing the path to the bitstream file instead of None.\n",
    "    vta.program_fpga(remote, bitstream=None)\n",
    "\n",
    "# In simulation mode, host the RPC server locally.\n",
    "elif env.TARGET in (\"sim\", \"tsim\", \"intelfocl\"):\n",
    "    remote = rpc.LocalSession()\n",
    "\n",
    "    if env.TARGET in [\"intelfocl\"]:\n",
    "        # program intelfocl aocx\n",
    "        vta.program_fpga(remote, bitstream=\"vta.bitstream\")"
   ]
  },
  {
   "cell_type": "markdown",
   "metadata": {},
   "source": [
    "Computation Declaration\n",
    "-----------------------\n",
    "As a first step, we need to describe our computation.\n",
    "TVM adopts tensor semantics, with each intermediate result\n",
    "represented as multi-dimensional array. The user needs to describe\n",
    "the computation rule that generates the output tensors.\n",
    "\n",
    "In this example we describe a vector addition, which requires multiple\n",
    "computation stages, as shown in the dataflow diagram below.\n",
    "First we describe the input tensors :code:`A` and :code:`B` that are living\n",
    "in main memory.\n",
    "Second, we need to declare intermediate tensors :code:`A_buf` and\n",
    ":code:`B_buf`, which will live in VTA's on-chip buffers.\n",
    "Having this extra computational stage allows us to explicitly\n",
    "stage cached reads and writes.\n",
    "Third, we describe the vector addition computation which will\n",
    "add :code:`A_buf` to :code:`B_buf` to produce :code:`C_buf`.\n",
    "The last operation is a cast and copy back to DRAM, into results tensor\n",
    ":code:`C`.\n",
    "\n",
    "![](https://raw.githubusercontent.com/uwsampl/web-data/main/vta/tutorial/vadd_dataflow.png)\n",
    "\n",
    "     :align: center\n",
    "\n"
   ]
  },
  {
   "cell_type": "markdown",
   "metadata": {},
   "source": [
    "Input Placeholders\n",
    "~~~~~~~~~~~~~~~~~~\n",
    "We describe the placeholder tensors :code:`A`, and :code:`B` in a tiled data\n",
    "format to match the data layout requirements imposed by the VTA vector ALU.\n",
    "\n",
    "For VTA's general purpose operations such as vector adds, the tile size is\n",
    ":code:`(env.BATCH, env.BLOCK_OUT)`.\n",
    "The dimensions are specified in\n",
    "the :code:`vta_config.json` configuration file and are set by default to\n",
    "a (1, 16) vector.\n",
    "\n",
    "In addition, A and B's data types also needs to match the :code:`env.acc_dtype`\n",
    "which is set by the :code:`vta_config.json` file to be a 32-bit integer.\n",
    "\n"
   ]
  },
  {
   "cell_type": "code",
   "execution_count": null,
   "metadata": {},
   "outputs": [],
   "source": [
    "# Output channel factor m - total 64 x 16 = 1024 output channels\n",
    "m = 64\n",
    "# Batch factor o - total 1 x 1 = 1\n",
    "o = 1\n",
    "# A placeholder tensor in tiled data format\n",
    "A = te.placeholder((o, m, env.BATCH, env.BLOCK_OUT), name=\"A\", dtype=env.acc_dtype)\n",
    "# B placeholder tensor in tiled data format\n",
    "B = te.placeholder((o, m, env.BATCH, env.BLOCK_OUT), name=\"B\", dtype=env.acc_dtype)"
   ]
  },
  {
   "cell_type": "markdown",
   "metadata": {},
   "source": [
    "Copy Buffers\n",
    "~~~~~~~~~~~~\n",
    "One specificity of hardware accelerators, is that on-chip memory has to be\n",
    "explicitly managed.\n",
    "This means that we'll need to describe intermediate tensors :code:`A_buf`\n",
    "and :code:`B_buf` that can have a different memory scope than the original\n",
    "placeholder tensors :code:`A` and :code:`B`.\n",
    "\n",
    "Later in the scheduling phase, we can tell the compiler that :code:`A_buf`\n",
    "and :code:`B_buf` will live in the VTA's on-chip buffers (SRAM), while\n",
    ":code:`A` and :code:`B` will live in main memory (DRAM).\n",
    "We describe A_buf and B_buf as the result of a compute\n",
    "operation that is the identity function.\n",
    "This can later be interpreted by the compiler as a cached read operation.\n",
    "\n"
   ]
  },
  {
   "cell_type": "code",
   "execution_count": null,
   "metadata": {},
   "outputs": [],
   "source": [
    "# A copy buffer\n",
    "A_buf = te.compute((o, m, env.BATCH, env.BLOCK_OUT), lambda *i: A(*i), \"A_buf\")\n",
    "# B copy buffer\n",
    "B_buf = te.compute((o, m, env.BATCH, env.BLOCK_OUT), lambda *i: B(*i), \"B_buf\")"
   ]
  },
  {
   "cell_type": "markdown",
   "metadata": {},
   "source": [
    "Vector Addition\n",
    "~~~~~~~~~~~~~~~\n",
    "Now we're ready to describe the vector addition result tensor :code:`C`,\n",
    "with another compute operation.\n",
    "The compute function takes the shape of the tensor, as well as a lambda\n",
    "function that describes the computation rule for each position of the tensor.\n",
    "\n",
    "No computation happens during this phase, as we are only declaring how\n",
    "the computation should be done.\n",
    "\n"
   ]
  },
  {
   "cell_type": "code",
   "execution_count": null,
   "metadata": {},
   "outputs": [],
   "source": [
    "# Describe the in-VTA vector addition\n",
    "C_buf = te.compute(\n",
    "    (o, m, env.BATCH, env.BLOCK_OUT),\n",
    "    lambda *i: A_buf(*i).astype(env.acc_dtype) + B_buf(*i).astype(env.acc_dtype),\n",
    "    name=\"C_buf\",\n",
    ")"
   ]
  },
  {
   "cell_type": "markdown",
   "metadata": {},
   "source": [
    "Casting the Results\n",
    "~~~~~~~~~~~~~~~~~~~\n",
    "After the computation is done, we'll need to send the results computed by VTA\n",
    "back to main memory.\n",
    "\n"
   ]
  },
  {
   "cell_type": "markdown",
   "metadata": {},
   "source": [
    "<div class=\"alert alert-info\"><h4>Note</h4><p>**Memory Store Restrictions**\n",
    "\n",
    "  One specificity of VTA is that it only supports DRAM stores in the narrow\n",
    "  :code:`env.inp_dtype` data type format.\n",
    "  This lets us reduce the data footprint for memory transfers (more on this\n",
    "  in the basic matrix multiply example).</p></div>\n",
    "\n",
    "We perform one last typecast operation to the narrow\n",
    "input activation data format.\n",
    "\n"
   ]
  },
  {
   "cell_type": "code",
   "execution_count": null,
   "metadata": {},
   "outputs": [],
   "source": [
    "# Cast to output type, and send to main memory\n",
    "C = te.compute(\n",
    "    (o, m, env.BATCH, env.BLOCK_OUT), lambda *i: C_buf(*i).astype(env.inp_dtype), name=\"C\"\n",
    ")"
   ]
  },
  {
   "cell_type": "markdown",
   "metadata": {},
   "source": [
    "This concludes the computation declaration part of this tutorial.\n",
    "\n"
   ]
  },
  {
   "cell_type": "markdown",
   "metadata": {},
   "source": [
    "Scheduling the Computation\n",
    "--------------------------\n",
    "While the above lines describes the computation rule, we can obtain\n",
    ":code:`C` in many ways.\n",
    "TVM asks the user to provide an implementation of the computation called\n",
    "*schedule*.\n",
    "\n",
    "A schedule is a set of transformations to an original computation that\n",
    "transforms the implementation of the computation without affecting\n",
    "correctness.\n",
    "This simple VTA programming tutorial aims to demonstrate basic schedule\n",
    "transformations that will map the original schedule down to VTA hardware\n",
    "primitives.\n",
    "\n"
   ]
  },
  {
   "cell_type": "markdown",
   "metadata": {},
   "source": [
    "Default Schedule\n",
    "~~~~~~~~~~~~~~~~\n",
    "After we construct the schedule, by default the schedule computes\n",
    ":code:`C` in the following way:\n",
    "\n"
   ]
  },
  {
   "cell_type": "code",
   "execution_count": null,
   "metadata": {},
   "outputs": [],
   "source": [
    "# Let's take a look at the generated schedule\n",
    "s = te.create_schedule(C.op)\n",
    "\n",
    "print(tvm.lower(s, [A, B, C], simple_mode=True))"
   ]
  },
  {
   "cell_type": "markdown",
   "metadata": {},
   "source": [
    "Although this schedule makes sense, it won't compile to VTA.\n",
    "In order to obtain correct code generation, we need to apply scheduling\n",
    "primitives and code annotation that will transform the schedule into\n",
    "one that can be directly lowered onto VTA hardware intrinsics.\n",
    "Those include:\n",
    "\n",
    " - DMA copy operations which will take globally-scoped tensors and copy\n",
    "   those into locally-scoped tensors.\n",
    " - Vector ALU operations that will perform the vector add.\n",
    "\n"
   ]
  },
  {
   "cell_type": "markdown",
   "metadata": {},
   "source": [
    "Buffer Scopes\n",
    "~~~~~~~~~~~~~\n",
    "First, we set the scope of the copy buffers to indicate to TVM that these\n",
    "intermediate tensors will be stored in the VTA's on-chip SRAM buffers.\n",
    "Below, we tell TVM that :code:`A_buf`, :code:`B_buf`, :code:`C_buf`\n",
    "will live in VTA's on-chip *accumulator buffer* which serves as\n",
    "VTA's general purpose register file.\n",
    "\n",
    "Set the intermediate tensors' scope to VTA's on-chip accumulator buffer\n",
    "\n"
   ]
  },
  {
   "cell_type": "code",
   "execution_count": null,
   "metadata": {},
   "outputs": [],
   "source": [
    "s[A_buf].set_scope(env.acc_scope)\n",
    "s[B_buf].set_scope(env.acc_scope)\n",
    "s[C_buf].set_scope(env.acc_scope)"
   ]
  },
  {
   "cell_type": "markdown",
   "metadata": {},
   "source": [
    "DMA Transfers\n",
    "~~~~~~~~~~~~~\n",
    "We need to schedule DMA transfers to move data living in DRAM to\n",
    "and from the VTA on-chip buffers.\n",
    "We insert :code:`dma_copy` pragmas to indicate to the compiler\n",
    "that the copy operations will be performed in bulk via DMA,\n",
    "which is common in hardware accelerators.\n",
    "\n"
   ]
  },
  {
   "cell_type": "code",
   "execution_count": null,
   "metadata": {},
   "outputs": [],
   "source": [
    "# Tag the buffer copies with the DMA pragma to map a copy loop to a\n",
    "# DMA transfer operation\n",
    "s[A_buf].pragma(s[A_buf].op.axis[0], env.dma_copy)\n",
    "s[B_buf].pragma(s[B_buf].op.axis[0], env.dma_copy)\n",
    "s[C].pragma(s[C].op.axis[0], env.dma_copy)"
   ]
  },
  {
   "cell_type": "markdown",
   "metadata": {},
   "source": [
    "ALU Operations\n",
    "~~~~~~~~~~~~~~\n",
    "VTA has a vector ALU that can perform vector operations on tensors\n",
    "in the accumulator buffer.\n",
    "In order to tell TVM that a given operation needs to be mapped to the\n",
    "VTA's vector ALU, we need to explicitly tag the vector addition loop\n",
    "with an :code:`env.alu` pragma.\n",
    "\n"
   ]
  },
  {
   "cell_type": "code",
   "execution_count": null,
   "metadata": {},
   "outputs": [],
   "source": [
    "# Tell TVM that the computation needs to be performed\n",
    "# on VTA's vector ALU\n",
    "s[C_buf].pragma(C_buf.op.axis[0], env.alu)\n",
    "\n",
    "# Let's take a look at the finalized schedule\n",
    "print(vta.lower(s, [A, B, C], simple_mode=True))"
   ]
  },
  {
   "cell_type": "markdown",
   "metadata": {},
   "source": [
    "This concludes the scheduling portion of this tutorial.\n",
    "\n"
   ]
  },
  {
   "cell_type": "markdown",
   "metadata": {},
   "source": [
    "TVM Compilation\n",
    "---------------\n",
    "After we have finished specifying the schedule, we can compile it\n",
    "into a TVM function. By default TVM compiles into a type-erased\n",
    "function that can be directly called from python side.\n",
    "\n",
    "In the following line, we use :code:`tvm.build` to create a function.\n",
    "The build function takes the schedule, the desired signature of the\n",
    "function(including the inputs and outputs) as well as target language\n",
    "we want to compile to.\n",
    "\n",
    "\n"
   ]
  },
  {
   "cell_type": "code",
   "execution_count": null,
   "metadata": {},
   "outputs": [],
   "source": [
    "my_vadd = vta.build(s, [A, B, C], \"ext_dev\", env.target_host, name=\"my_vadd\")"
   ]
  },
  {
   "cell_type": "markdown",
   "metadata": {},
   "source": [
    "Saving the Module\n",
    "~~~~~~~~~~~~~~~~~\n",
    "TVM lets us save our module into a file so it can loaded back later. This\n",
    "is called ahead-of-time compilation and allows us to save some compilation\n",
    "time.\n",
    "More importantly, this allows us to cross-compile the executable on our\n",
    "development machine and send it over to the Pynq FPGA board over RPC for\n",
    "execution.\n",
    "\n"
   ]
  },
  {
   "cell_type": "code",
   "execution_count": null,
   "metadata": {},
   "outputs": [],
   "source": [
    "# Write the compiled module into an object file.\n",
    "temp = utils.tempdir()\n",
    "my_vadd.save(temp.relpath(\"vadd.o\"))\n",
    "\n",
    "# Send the executable over RPC\n",
    "remote.upload(temp.relpath(\"vadd.o\"))"
   ]
  },
  {
   "cell_type": "markdown",
   "metadata": {},
   "source": [
    "Loading the Module\n",
    "~~~~~~~~~~~~~~~~~~\n",
    "We can load the compiled module from the file system to run the code.\n",
    "\n"
   ]
  },
  {
   "cell_type": "code",
   "execution_count": null,
   "metadata": {},
   "outputs": [],
   "source": [
    "f = remote.load_module(\"vadd.o\")"
   ]
  },
  {
   "cell_type": "markdown",
   "metadata": {},
   "source": [
    "Running the Function\n",
    "--------------------\n",
    "The compiled TVM function uses a concise C API and can be invoked from\n",
    "any language.\n",
    "\n",
    "TVM provides an array API in python to aid quick testing and prototyping.\n",
    "The array API is based on `DLPack <https://github.com/dmlc/dlpack>`_ standard.\n",
    "\n",
    "- We first create a remote context (for remote execution on the Pynq).\n",
    "- Then :code:`tvm.nd.array` formats the data accordingly.\n",
    "- :code:`f()` runs the actual computation.\n",
    "- :code:`numpy()` copies the result array back in a format that can be\n",
    "  interpreted.\n",
    "\n",
    "\n"
   ]
  },
  {
   "cell_type": "code",
   "execution_count": null,
   "metadata": {},
   "outputs": [],
   "source": [
    "# Get the remote device context\n",
    "ctx = remote.ext_dev(0)\n",
    "\n",
    "# Initialize the A and B arrays randomly in the int range of (-128, 128]\n",
    "A_orig = np.random.randint(-128, 128, size=(o * env.BATCH, m * env.BLOCK_OUT)).astype(A.dtype)\n",
    "B_orig = np.random.randint(-128, 128, size=(o * env.BATCH, m * env.BLOCK_OUT)).astype(B.dtype)\n",
    "\n",
    "# Apply packing to the A and B arrays from a 2D to a 4D packed layout\n",
    "A_packed = A_orig.reshape(o, env.BATCH, m, env.BLOCK_OUT).transpose((0, 2, 1, 3))\n",
    "B_packed = B_orig.reshape(o, env.BATCH, m, env.BLOCK_OUT).transpose((0, 2, 1, 3))\n",
    "\n",
    "# Format the input/output arrays with tvm.nd.array to the DLPack standard\n",
    "A_nd = tvm.nd.array(A_packed, ctx)\n",
    "B_nd = tvm.nd.array(B_packed, ctx)\n",
    "C_nd = tvm.nd.array(np.zeros((o, m, env.BATCH, env.BLOCK_OUT)).astype(C.dtype), ctx)\n",
    "\n",
    "# Invoke the module to perform the computation\n",
    "f(A_nd, B_nd, C_nd)"
   ]
  },
  {
   "cell_type": "markdown",
   "metadata": {},
   "source": [
    "Verifying Correctness\n",
    "---------------------\n",
    "Compute the reference result with numpy and assert that the output of the\n",
    "matrix multiplication indeed is correct\n",
    "\n"
   ]
  },
  {
   "cell_type": "code",
   "execution_count": null,
   "metadata": {},
   "outputs": [],
   "source": [
    "# Compute reference result with numpy\n",
    "C_ref = (A_orig.astype(env.acc_dtype) + B_orig.astype(env.acc_dtype)).astype(C.dtype)\n",
    "C_ref = C_ref.reshape(o, env.BATCH, m, env.BLOCK_OUT).transpose((0, 2, 1, 3))\n",
    "np.testing.assert_equal(C_ref, C_nd.numpy())\n",
    "print(\"Successful vector add test!\")"
   ]
  },
  {
   "cell_type": "markdown",
   "metadata": {},
   "source": [
    "Summary\n",
    "-------\n",
    "This tutorial provides a walk-through of TVM for programming the\n",
    "deep learning accelerator VTA with a simple vector addition example.\n",
    "The general workflow includes:\n",
    "\n",
    "- Programming the FPGA with the VTA bitstream over RPC.\n",
    "- Describing the vector add computation via a series of computations.\n",
    "- Describing how we want to perform the computation using schedule primitives.\n",
    "- Compiling the function to the VTA target.\n",
    "- Running the compiled module and verifying it against a numpy implementation.\n",
    "\n",
    "You are more than welcome to check other examples out and tutorials\n",
    "to learn more about the supported operations, schedule primitives\n",
    "and other features supported by TVM to program VTA.\n",
    "\n",
    "\n"
   ]
  }
 ],
 "metadata": {
  "kernelspec": {
   "display_name": "Python 3",
   "language": "python",
   "name": "python3"
  },
  "language_info": {
   "codemirror_mode": {
    "name": "ipython",
    "version": 3
   },
   "file_extension": ".py",
   "mimetype": "text/x-python",
   "name": "python",
   "nbconvert_exporter": "python",
   "pygments_lexer": "ipython3",
   "version": "3.8.5"
  }
 },
 "nbformat": 4,
 "nbformat_minor": 1
}
