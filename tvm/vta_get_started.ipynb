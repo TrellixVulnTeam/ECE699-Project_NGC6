{
 "cells": [
  {
   "cell_type": "code",
   "execution_count": 1,
   "metadata": {},
   "outputs": [],
   "source": [
    "%matplotlib inline"
   ]
  },
  {
   "cell_type": "markdown",
   "metadata": {},
   "source": [
    "\n",
    "\n",
    "Get Started with VTA\n",
    "====================\n",
    "**Author**: `Thierry Moreau <https://homes.cs.washington.edu/~moreau/>`_\n",
    "\n",
    "This is an introduction tutorial on how to use TVM to program the VTA design.\n",
    "\n",
    "In this tutorial, we will demonstrate the basic TVM workflow to implement\n",
    "a vector addition on the VTA design's vector ALU.\n",
    "This process includes specific scheduling transformations necessary to lower\n",
    "computation down to low-level accelerator operations.\n",
    "\n",
    "To begin, we need to import TVM which is our deep learning optimizing compiler.\n",
    "We also need to import the VTA python package which contains VTA specific\n",
    "extensions for TVM to target the VTA design.\n",
    "\n"
   ]
  },
  {
   "cell_type": "code",
   "execution_count": 2,
   "metadata": {},
   "outputs": [
    {
     "name": "stdout",
     "output_type": "stream",
     "text": [
      "initialized module tvm.runtime._ffi_api\n",
      "initialized module tvm.runtime._ffi_node_api\n",
      "initialized module tvm.runtime.profiling\n",
      "initialized module tvm.ir._ffi_api\n",
      "initialized module tvm.ir._ffi_transform_api\n",
      "initialized module tvm.ir.diagnostics._ffi_api\n",
      "Registering function:diagnostics.override_renderer\n",
      "initialized module tvm.tir._ffi_api\n",
      "Registering function:tvm.default_trace_action\n",
      "initialized module tvm.tir.schedule._ffi_api_schedule\n",
      "initialized module tvm.tir.transform._ffi_api\n",
      "initialized module tvm.tir.analysis._ffi_api\n",
      "initialized module tvm.target._ffi_api\n",
      "Registering function:target._load_config_dict\n",
      "initialized module tvm.te._ffi_api\n",
      "initialized module tvm.te.schedule\n",
      "initialized module tvm.arith._ffi_api\n",
      "initialized module tvm.te.hybrid\n",
      "initialized module tvm.parser._ffi_api\n",
      "initialized module tvm.support\n",
      "Registering function:tvm_callback_rocm_link\n",
      "Registering function:tvm_callback_rocm_bitcode_path\n",
      "Registering function:tvm_callback_libdevice_path\n",
      "Registering function:tvm_callback_sdaccel_compile\n",
      "initialized module tvm.rpc._ffi_api\n",
      "Registering function:rpc.test.addone\n",
      "Registering function:rpc.test.strcat\n",
      "Registering function:rpc.test.except\n",
      "Registering function:rpc.test.runtime_str_concat\n",
      "Registering function:rpc.test.remote_array_func\n",
      "Registering function:rpc.test.add_to_lhs\n",
      "Registering function:rpc.test.remote_return_nd\n",
      "Registering function:rpc.PopenSession\n",
      "Registering function:tvm_callback_cuda_compile\n",
      "Registering function:tvm.info.mem.local.inp_buffer\n",
      "Registering function:tvm.info.mem.local.wgt_buffer\n",
      "Registering function:tvm.info.mem.local.acc_buffer\n",
      "initialized module tvm.topi.cpp\n",
      "initialized module tvm.topi.cpp.cuda\n",
      "initialized module tvm.topi.cpp.nn\n",
      "initialized module tvm.topi.cpp.vision.yolo\n",
      "initialized module tvm.topi.cpp.vision\n",
      "initialized module tvm.topi.cpp.x86\n",
      "initialized module tvm.topi.cpp.generic\n",
      "initialized module tvm.topi.cpp.rocm\n",
      "initialized module tvm.topi.cpp.utils\n",
      "initialized module tvm.auto_scheduler._ffi_api\n",
      "Registering function:auto_scheduler.workload_key_to_tensors\n",
      "Registering function:auto_scheduler.cost_model.random_fill_float\n",
      "Registering function:auto_scheduler.local_builder.build\n",
      "Registering function:auto_scheduler.local_runner.run\n",
      "Registering function:auto_scheduler.rpc_runner.run\n",
      "Registering function:auto_scheduler.enter_layout_rewrite\n",
      "Registering function:auto_scheduler.exit_layout_rewrite\n",
      "Registering function:auto_scheduler.relay_integration.auto_schedule_topi_compute\n",
      "Registering function:tvm.relay.std_path\n",
      "initialized module tvm.relay._ffi_api\n",
      "initialized module tvm.relay.transform._ffi_api\n",
      "initialized module tvm.relay._build_module\n",
      "Registering function:relay.backend.lower\n",
      "Registering function:relay.backend.build\n",
      "Registering function:relay._tensor_value_repr\n",
      "Registering function:relay._constant_repr\n",
      "initialized module tvm.relay.backend._backend\n",
      "Registering function:relay.backend.lower_call\n",
      "initialized module tvm.relay._make\n",
      "initialized module tvm.relay.backend._vm\n",
      "Registering function:tvm.relay.module_export_library\n",
      "Registering function:tvm.relay.build\n",
      "initialized module tvm.relay.analysis._ffi_api\n",
      "initialized module tvm.relay.op._make\n",
      "Registering function:relay.op.compiler._lower\n",
      "Registering function:relay.op.compiler._build\n",
      "initialized module tvm.relay.op.op\n",
      "initialized module tvm.relay.op.dyn._make\n",
      "initialized module tvm.relay.op.vm._ffi_api\n",
      "initialized module tvm.relay.op.dyn.nn._make\n",
      "initialized module tvm.relay.op.nn._make\n",
      "initialized module tvm.relay.op.annotation._make\n",
      "initialized module tvm.relay.op.memory._make\n",
      "initialized module tvm.relay.op.image._make\n",
      "initialized module tvm.relay.op.dyn.image._make\n",
      "initialized module tvm.relay.op.vision._make\n",
      "initialized module tvm.relay.op.random._make\n",
      "Registering function:relay.debug\n",
      "Registering function:relay.debug_interp\n",
      "initialized module tvm.relay.dataflow_pattern._ffi\n",
      "Registering function:relay.ext.arm_compute_lib.optimize\n",
      "Registering function:relay.ext.coremlcompiler\n",
      "initialized module tvm.relay.qnn.op._make\n",
      "initialized module tvm.relay.op.contrib._ethosn\n",
      "initialized module tvm.relay.quantize._quantize\n",
      "Registering function:relay.quantize.attach_simulated_quantize\n",
      "Registering function:relay.transform.MemoryPlan\n",
      "Registering function:relay.transform.LiftConstants\n",
      "initialized module tvm.contrib.nnpack\n"
     ]
    }
   ],
   "source": [
    "from __future__ import absolute_import, print_function\n",
    "\n",
    "import os\n",
    "import tvm\n",
    "from tvm import te\n",
    "import vta\n",
    "import numpy as np"
   ]
  },
  {
   "cell_type": "markdown",
   "metadata": {},
   "source": [
    "Loading in VTA Parameters\n",
    "~~~~~~~~~~~~~~~~~~~~~~~~~\n",
    "VTA is a modular and customizable design. Consequently, the user\n",
    "is free to modify high-level hardware parameters that affect\n",
    "the hardware design layout.\n",
    "These parameters are specified in the :code:`vta_config.json` file by their\n",
    ":code:`log2` values.\n",
    "These VTA parameters can be loaded with the :code:`vta.get_env`\n",
    "function.\n",
    "\n",
    "Finally, the TVM target is also specified in the :code:`vta_config.json` file.\n",
    "When set to *sim*, execution will take place inside of a behavioral\n",
    "VTA simulator.\n",
    "If you want to run this tutorial on the Pynq FPGA development platform,\n",
    "follow the *VTA Pynq-Based Testing Setup* guide.\n",
    "\n"
   ]
  },
  {
   "cell_type": "code",
   "execution_count": 3,
   "metadata": {},
   "outputs": [],
   "source": [
    "env = vta.get_env()"
   ]
  },
  {
   "cell_type": "markdown",
   "metadata": {},
   "source": [
    "FPGA Programming\n",
    "----------------\n",
    "When targeting the Pynq FPGA development board, we need to configure\n",
    "the board with a VTA bitstream.\n",
    "\n"
   ]
  },
  {
   "cell_type": "code",
   "execution_count": 4,
   "metadata": {},
   "outputs": [
    {
     "name": "stdout",
     "output_type": "stream",
     "text": [
      "TVMModGetFunction:tvm.contrib.vta.reconfig_runtime\n",
      "TVMModGetFunction:tvm.contrib.vta.init\n",
      "TVMModGetFunction:tvm.rpc.server.upload\n"
     ]
    }
   ],
   "source": [
    "# We'll need the TVM RPC module and the VTA simulator module\n",
    "from tvm import rpc\n",
    "from tvm.contrib import utils\n",
    "from vta.testing import simulator\n",
    "\n",
    "# We read the Pynq RPC host IP address and port number from the OS environment\n",
    "host = os.environ.get(\"VTA_RPC_HOST\", \"192.168.101.199\")\n",
    "port = int(os.environ.get(\"VTA_RPC_PORT\", \"9091\"))\n",
    "\n",
    "# We configure both the bitstream and the runtime system on the Pynq\n",
    "# to match the VTA configuration specified by the vta_config.json file.\n",
    "if env.TARGET == \"pynq\" or env.TARGET == \"de10pro\":\n",
    "\n",
    "    # Make sure that TVM was compiled with RPC=1\n",
    "    assert tvm.runtime.enabled(\"rpc\")\n",
    "    remote = rpc.connect(host, port)\n",
    "\n",
    "    # Reconfigure the JIT runtime\n",
    "    vta.reconfig_runtime(remote)\n",
    "\n",
    "    # Program the FPGA with a pre-compiled VTA bitstream.\n",
    "    # You can program the FPGA with your own custom bitstream\n",
    "    # by passing the path to the bitstream file instead of None.\n",
    "    vta.program_fpga(remote, bitstream=None)\n",
    "\n",
    "# In simulation mode, host the RPC server locally.\n",
    "elif env.TARGET in (\"sim\", \"tsim\", \"intelfocl\"):\n",
    "    remote = rpc.LocalSession()\n",
    "\n",
    "    if env.TARGET in [\"intelfocl\"]:\n",
    "        # program intelfocl aocx\n",
    "        vta.program_fpga(remote, bitstream=\"vta.bitstream\")"
   ]
  },
  {
   "cell_type": "markdown",
   "metadata": {},
   "source": [
    "Computation Declaration\n",
    "-----------------------\n",
    "As a first step, we need to describe our computation.\n",
    "TVM adopts tensor semantics, with each intermediate result\n",
    "represented as multi-dimensional array. The user needs to describe\n",
    "the computation rule that generates the output tensors.\n",
    "\n",
    "In this example we describe a vector addition, which requires multiple\n",
    "computation stages, as shown in the dataflow diagram below.\n",
    "First we describe the input tensors :code:`A` and :code:`B` that are living\n",
    "in main memory.\n",
    "Second, we need to declare intermediate tensors :code:`A_buf` and\n",
    ":code:`B_buf`, which will live in VTA's on-chip buffers.\n",
    "Having this extra computational stage allows us to explicitly\n",
    "stage cached reads and writes.\n",
    "Third, we describe the vector addition computation which will\n",
    "add :code:`A_buf` to :code:`B_buf` to produce :code:`C_buf`.\n",
    "The last operation is a cast and copy back to DRAM, into results tensor\n",
    ":code:`C`.\n",
    "\n",
    "![](https://raw.githubusercontent.com/uwsampl/web-data/main/vta/tutorial/vadd_dataflow.png)\n",
    "\n",
    "     :align: center\n",
    "\n"
   ]
  },
  {
   "cell_type": "markdown",
   "metadata": {},
   "source": [
    "Input Placeholders\n",
    "~~~~~~~~~~~~~~~~~~\n",
    "We describe the placeholder tensors :code:`A`, and :code:`B` in a tiled data\n",
    "format to match the data layout requirements imposed by the VTA vector ALU.\n",
    "\n",
    "For VTA's general purpose operations such as vector adds, the tile size is\n",
    ":code:`(env.BATCH, env.BLOCK_OUT)`.\n",
    "The dimensions are specified in\n",
    "the :code:`vta_config.json` configuration file and are set by default to\n",
    "a (1, 16) vector.\n",
    "\n",
    "In addition, A and B's data types also needs to match the :code:`env.acc_dtype`\n",
    "which is set by the :code:`vta_config.json` file to be a 32-bit integer.\n",
    "\n"
   ]
  },
  {
   "cell_type": "code",
   "execution_count": 5,
   "metadata": {},
   "outputs": [],
   "source": [
    "# Output channel factor m - total 64 x 16 = 1024 output channels\n",
    "m = 64\n",
    "# Batch factor o - total 1 x 1 = 1\n",
    "o = 1\n",
    "# A placeholder tensor in tiled data format\n",
    "A = te.placeholder((o, m, env.BATCH, env.BLOCK_OUT), name=\"A\", dtype=env.acc_dtype)\n",
    "# B placeholder tensor in tiled data format\n",
    "B = te.placeholder((o, m, env.BATCH, env.BLOCK_OUT), name=\"B\", dtype=env.acc_dtype)"
   ]
  },
  {
   "cell_type": "markdown",
   "metadata": {},
   "source": [
    "Copy Buffers\n",
    "~~~~~~~~~~~~\n",
    "One specificity of hardware accelerators, is that on-chip memory has to be\n",
    "explicitly managed.\n",
    "This means that we'll need to describe intermediate tensors :code:`A_buf`\n",
    "and :code:`B_buf` that can have a different memory scope than the original\n",
    "placeholder tensors :code:`A` and :code:`B`.\n",
    "\n",
    "Later in the scheduling phase, we can tell the compiler that :code:`A_buf`\n",
    "and :code:`B_buf` will live in the VTA's on-chip buffers (SRAM), while\n",
    ":code:`A` and :code:`B` will live in main memory (DRAM).\n",
    "We describe A_buf and B_buf as the result of a compute\n",
    "operation that is the identity function.\n",
    "This can later be interpreted by the compiler as a cached read operation.\n",
    "\n"
   ]
  },
  {
   "cell_type": "code",
   "execution_count": 6,
   "metadata": {},
   "outputs": [],
   "source": [
    "# A copy buffer\n",
    "A_buf = te.compute((o, m, env.BATCH, env.BLOCK_OUT), lambda *i: A(*i), \"A_buf\")\n",
    "# B copy buffer\n",
    "B_buf = te.compute((o, m, env.BATCH, env.BLOCK_OUT), lambda *i: B(*i), \"B_buf\")"
   ]
  },
  {
   "cell_type": "markdown",
   "metadata": {},
   "source": [
    "Vector Addition\n",
    "~~~~~~~~~~~~~~~\n",
    "Now we're ready to describe the vector addition result tensor :code:`C`,\n",
    "with another compute operation.\n",
    "The compute function takes the shape of the tensor, as well as a lambda\n",
    "function that describes the computation rule for each position of the tensor.\n",
    "\n",
    "No computation happens during this phase, as we are only declaring how\n",
    "the computation should be done.\n",
    "\n"
   ]
  },
  {
   "cell_type": "code",
   "execution_count": 7,
   "metadata": {},
   "outputs": [],
   "source": [
    "# Describe the in-VTA vector addition\n",
    "C_buf = te.compute(\n",
    "    (o, m, env.BATCH, env.BLOCK_OUT),\n",
    "    lambda *i: A_buf(*i).astype(env.acc_dtype) + B_buf(*i).astype(env.acc_dtype),\n",
    "    name=\"C_buf\",\n",
    ")"
   ]
  },
  {
   "cell_type": "markdown",
   "metadata": {},
   "source": [
    "Casting the Results\n",
    "~~~~~~~~~~~~~~~~~~~\n",
    "After the computation is done, we'll need to send the results computed by VTA\n",
    "back to main memory.\n",
    "\n"
   ]
  },
  {
   "cell_type": "markdown",
   "metadata": {},
   "source": [
    "<div class=\"alert alert-info\"><h4>Note</h4><p>**Memory Store Restrictions**\n",
    "\n",
    "  One specificity of VTA is that it only supports DRAM stores in the narrow\n",
    "  :code:`env.inp_dtype` data type format.\n",
    "  This lets us reduce the data footprint for memory transfers (more on this\n",
    "  in the basic matrix multiply example).</p></div>\n",
    "\n",
    "We perform one last typecast operation to the narrow\n",
    "input activation data format.\n",
    "\n"
   ]
  },
  {
   "cell_type": "code",
   "execution_count": 8,
   "metadata": {},
   "outputs": [],
   "source": [
    "# Cast to output type, and send to main memory\n",
    "C = te.compute(\n",
    "    (o, m, env.BATCH, env.BLOCK_OUT), lambda *i: C_buf(*i).astype(env.inp_dtype), name=\"C\"\n",
    ")"
   ]
  },
  {
   "cell_type": "markdown",
   "metadata": {},
   "source": [
    "This concludes the computation declaration part of this tutorial.\n",
    "\n"
   ]
  },
  {
   "cell_type": "markdown",
   "metadata": {},
   "source": [
    "Scheduling the Computation\n",
    "--------------------------\n",
    "While the above lines describes the computation rule, we can obtain\n",
    ":code:`C` in many ways.\n",
    "TVM asks the user to provide an implementation of the computation called\n",
    "*schedule*.\n",
    "\n",
    "A schedule is a set of transformations to an original computation that\n",
    "transforms the implementation of the computation without affecting\n",
    "correctness.\n",
    "This simple VTA programming tutorial aims to demonstrate basic schedule\n",
    "transformations that will map the original schedule down to VTA hardware\n",
    "primitives.\n",
    "\n"
   ]
  },
  {
   "cell_type": "markdown",
   "metadata": {},
   "source": [
    "Default Schedule\n",
    "~~~~~~~~~~~~~~~~\n",
    "After we construct the schedule, by default the schedule computes\n",
    ":code:`C` in the following way:\n",
    "\n"
   ]
  },
  {
   "cell_type": "code",
   "execution_count": 9,
   "metadata": {},
   "outputs": [
    {
     "name": "stdout",
     "output_type": "stream",
     "text": [
      "primfn(A_1: handle, B_1: handle, C_1: handle) -> ()\n",
      "  attr = {\"global_symbol\": \"main\", \"tir.noalias\": True}\n",
      "  buffers = {C: Buffer(C_2: Pointer(int8), int8, [1, 64, 1, 16], []),\n",
      "             A: Buffer(A_2: Pointer(int32), int32, [1, 64, 1, 16], []),\n",
      "             B: Buffer(B_2: Pointer(int32), int32, [1, 64, 1, 16], [])}\n",
      "  buffer_map = {A_1: A, B_1: B, C_1: C} {\n",
      "  attr [A_buf: Pointer(int32)] \"storage_scope\" = \"global\";\n",
      "  allocate(A_buf, int32, [1024]);\n",
      "  attr [B_buf: Pointer(int32)] \"storage_scope\" = \"global\";\n",
      "  allocate(B_buf, int32, [1024]) {\n",
      "    for (i1: int32, 0, 64) {\n",
      "      for (i3: int32, 0, 16) {\n",
      "        A_buf[((i1*16) + i3)] = (int32*)A_2[((i1*16) + i3)]\n",
      "      }\n",
      "    }\n",
      "    for (i1_1: int32, 0, 64) {\n",
      "      for (i3_1: int32, 0, 16) {\n",
      "        B_buf[((i1_1*16) + i3_1)] = (int32*)B_2[((i1_1*16) + i3_1)]\n",
      "      }\n",
      "    }\n",
      "    for (i1_2: int32, 0, 64) {\n",
      "      for (i3_2: int32, 0, 16) {\n",
      "        A_buf[((i1_2*16) + i3_2)] = ((int32*)A_buf[((i1_2*16) + i3_2)] + (int32*)B_buf[((i1_2*16) + i3_2)])\n",
      "      }\n",
      "    }\n",
      "    for (i1_3: int32, 0, 64) {\n",
      "      for (i3_3: int32, 0, 16) {\n",
      "        C_2[((i1_3*16) + i3_3)] = cast(int8, (int32*)A_buf[((i1_3*16) + i3_3)])\n",
      "      }\n",
      "    }\n",
      "  }\n",
      "}\n",
      "\n",
      "\n"
     ]
    }
   ],
   "source": [
    "# Let's take a look at the generated schedule\n",
    "s = te.create_schedule(C.op)\n",
    "\n",
    "print(tvm.lower(s, [A, B, C], simple_mode=True))"
   ]
  },
  {
   "cell_type": "markdown",
   "metadata": {},
   "source": [
    "Although this schedule makes sense, it won't compile to VTA.\n",
    "In order to obtain correct code generation, we need to apply scheduling\n",
    "primitives and code annotation that will transform the schedule into\n",
    "one that can be directly lowered onto VTA hardware intrinsics.\n",
    "Those include:\n",
    "\n",
    " - DMA copy operations which will take globally-scoped tensors and copy\n",
    "   those into locally-scoped tensors.\n",
    " - Vector ALU operations that will perform the vector add.\n",
    "\n"
   ]
  },
  {
   "cell_type": "markdown",
   "metadata": {},
   "source": [
    "Buffer Scopes\n",
    "~~~~~~~~~~~~~\n",
    "First, we set the scope of the copy buffers to indicate to TVM that these\n",
    "intermediate tensors will be stored in the VTA's on-chip SRAM buffers.\n",
    "Below, we tell TVM that :code:`A_buf`, :code:`B_buf`, :code:`C_buf`\n",
    "will live in VTA's on-chip *accumulator buffer* which serves as\n",
    "VTA's general purpose register file.\n",
    "\n",
    "Set the intermediate tensors' scope to VTA's on-chip accumulator buffer\n",
    "\n"
   ]
  },
  {
   "cell_type": "code",
   "execution_count": 10,
   "metadata": {},
   "outputs": [
    {
     "data": {
      "text/plain": [
       "stage(C_buf, compute(C_buf, body=[(A_buf[i0, i1, i2, i3] + B_buf[i0, i1, i2, i3])], axis=[iter_var(i0, range(min=0, ext=1)), iter_var(i1, range(min=0, ext=64)), iter_var(i2, range(min=0, ext=1)), iter_var(i3, range(min=0, ext=16))], reduce_axis=[], tag=, attrs={}))"
      ]
     },
     "execution_count": 10,
     "metadata": {},
     "output_type": "execute_result"
    }
   ],
   "source": [
    "s[A_buf].set_scope(env.acc_scope)\n",
    "s[B_buf].set_scope(env.acc_scope)\n",
    "s[C_buf].set_scope(env.acc_scope)"
   ]
  },
  {
   "cell_type": "markdown",
   "metadata": {},
   "source": [
    "DMA Transfers\n",
    "~~~~~~~~~~~~~\n",
    "We need to schedule DMA transfers to move data living in DRAM to\n",
    "and from the VTA on-chip buffers.\n",
    "We insert :code:`dma_copy` pragmas to indicate to the compiler\n",
    "that the copy operations will be performed in bulk via DMA,\n",
    "which is common in hardware accelerators.\n",
    "\n"
   ]
  },
  {
   "cell_type": "code",
   "execution_count": 11,
   "metadata": {},
   "outputs": [],
   "source": [
    "# Tag the buffer copies with the DMA pragma to map a copy loop to a\n",
    "# DMA transfer operation\n",
    "s[A_buf].pragma(s[A_buf].op.axis[0], env.dma_copy)\n",
    "s[B_buf].pragma(s[B_buf].op.axis[0], env.dma_copy)\n",
    "s[C].pragma(s[C].op.axis[0], env.dma_copy)"
   ]
  },
  {
   "cell_type": "markdown",
   "metadata": {},
   "source": [
    "ALU Operations\n",
    "~~~~~~~~~~~~~~\n",
    "VTA has a vector ALU that can perform vector operations on tensors\n",
    "in the accumulator buffer.\n",
    "In order to tell TVM that a given operation needs to be mapped to the\n",
    "VTA's vector ALU, we need to explicitly tag the vector addition loop\n",
    "with an :code:`env.alu` pragma.\n",
    "\n"
   ]
  },
  {
   "cell_type": "code",
   "execution_count": 12,
   "metadata": {},
   "outputs": [
    {
     "name": "stdout",
     "output_type": "stream",
     "text": [
      "primfn(A_1: handle, B_1: handle, C_1: handle) -> ()\n",
      "  attr = {\"global_symbol\": \"main\", \"tir.noalias\": True}\n",
      "  buffers = {A: Buffer(A_2: Pointer(int32), int32, [1, 64, 1, 16], []),\n",
      "             C: Buffer(C_2: Pointer(int8), int8, [1, 64, 1, 16], []),\n",
      "             B: Buffer(B_2: Pointer(int32), int32, [1, 64, 1, 16], [])}\n",
      "  buffer_map = {A_1: A, B_1: B, C_1: C} {\n",
      "  attr [A_buf: Pointer(int32)] \"storage_scope\" = \"local.acc_buffer\" {\n",
      "    attr [IterVar(vta: int32, (nullptr), \"ThreadIndex\", \"vta\")] \"coproc_scope\" = 2 {\n",
      "      @tir.call_extern(\"VTALoadBuffer2D\", @tir.tvm_thread_context(@tir.vta.command_handle(, dtype=handle), dtype=handle), A_2, 0, 64, 1, 64, 0, 0, 0, 0, 0, 3, dtype=int32)\n",
      "      @tir.call_extern(\"VTALoadBuffer2D\", @tir.tvm_thread_context(@tir.vta.command_handle(, dtype=handle), dtype=handle), B_2, 0, 64, 1, 64, 0, 0, 0, 0, 64, 3, dtype=int32)\n",
      "      attr [IterVar(vta, (nullptr), \"ThreadIndex\", \"vta\")] \"coproc_uop_scope\" = \"VTAPushALUOp\" {\n",
      "        @tir.call_extern(\"VTAUopLoopBegin\", 64, 1, 1, 0, dtype=int32)\n",
      "        @tir.vta.uop_push(1, 0, 0, 64, 0, 2, 0, 0, dtype=int32)\n",
      "        @tir.call_extern(\"VTAUopLoopEnd\", dtype=int32)\n",
      "      }\n",
      "      @tir.vta.coproc_dep_push(2, 3, dtype=int32)\n",
      "    }\n",
      "    attr [IterVar(vta, (nullptr), \"ThreadIndex\", \"vta\")] \"coproc_scope\" = 3 {\n",
      "      @tir.vta.coproc_dep_pop(2, 3, dtype=int32)\n",
      "      @tir.call_extern(\"VTAStoreBuffer2D\", @tir.tvm_thread_context(@tir.vta.command_handle(, dtype=handle), dtype=handle), 0, 4, C_2, 0, 64, 1, 64, dtype=int32)\n",
      "    }\n",
      "    @tir.vta.coproc_sync(, dtype=int32)\n",
      "  }\n",
      "}\n",
      "\n",
      "\n"
     ]
    }
   ],
   "source": [
    "# Tell TVM that the computation needs to be performed\n",
    "# on VTA's vector ALU\n",
    "s[C_buf].pragma(C_buf.op.axis[0], env.alu)\n",
    "\n",
    "# Let's take a look at the finalized schedule\n",
    "print(vta.lower(s, [A, B, C], simple_mode=True))"
   ]
  },
  {
   "cell_type": "markdown",
   "metadata": {},
   "source": [
    "This concludes the scheduling portion of this tutorial.\n",
    "\n"
   ]
  },
  {
   "cell_type": "markdown",
   "metadata": {},
   "source": [
    "TVM Compilation\n",
    "---------------\n",
    "After we have finished specifying the schedule, we can compile it\n",
    "into a TVM function. By default TVM compiles into a type-erased\n",
    "function that can be directly called from python side.\n",
    "\n",
    "In the following line, we use :code:`tvm.build` to create a function.\n",
    "The build function takes the schedule, the desired signature of the\n",
    "function(including the inputs and outputs) as well as target language\n",
    "we want to compile to.\n",
    "\n",
    "\n"
   ]
  },
  {
   "cell_type": "code",
   "execution_count": 13,
   "metadata": {},
   "outputs": [],
   "source": [
    "my_vadd = vta.build(s, [A, B, C], \"ext_dev\", env.target_host, name=\"my_vadd\")"
   ]
  },
  {
   "cell_type": "markdown",
   "metadata": {},
   "source": [
    "Saving the Module\n",
    "~~~~~~~~~~~~~~~~~\n",
    "TVM lets us save our module into a file so it can loaded back later. This\n",
    "is called ahead-of-time compilation and allows us to save some compilation\n",
    "time.\n",
    "More importantly, this allows us to cross-compile the executable on our\n",
    "development machine and send it over to the Pynq FPGA board over RPC for\n",
    "execution.\n",
    "\n"
   ]
  },
  {
   "cell_type": "code",
   "execution_count": 14,
   "metadata": {},
   "outputs": [],
   "source": [
    "# Write the compiled module into an object file.\n",
    "temp = utils.tempdir()\n",
    "my_vadd.save(temp.relpath(\"vadd.o\"))\n",
    "\n",
    "# Send the executable over RPC\n",
    "remote.upload(temp.relpath(\"vadd.o\"))"
   ]
  },
  {
   "cell_type": "markdown",
   "metadata": {},
   "source": [
    "Loading the Module\n",
    "~~~~~~~~~~~~~~~~~~\n",
    "We can load the compiled module from the file system to run the code.\n",
    "\n"
   ]
  },
  {
   "cell_type": "code",
   "execution_count": 15,
   "metadata": {},
   "outputs": [],
   "source": [
    "f = remote.load_module(\"vadd.o\")"
   ]
  },
  {
   "cell_type": "markdown",
   "metadata": {},
   "source": [
    "Running the Function\n",
    "--------------------\n",
    "The compiled TVM function uses a concise C API and can be invoked from\n",
    "any language.\n",
    "\n",
    "TVM provides an array API in python to aid quick testing and prototyping.\n",
    "The array API is based on `DLPack <https://github.com/dmlc/dlpack>`_ standard.\n",
    "\n",
    "- We first create a remote context (for remote execution on the Pynq).\n",
    "- Then :code:`tvm.nd.array` formats the data accordingly.\n",
    "- :code:`f()` runs the actual computation.\n",
    "- :code:`numpy()` copies the result array back in a format that can be\n",
    "  interpreted.\n",
    "\n",
    "\n"
   ]
  },
  {
   "cell_type": "code",
   "execution_count": 16,
   "metadata": {},
   "outputs": [
    {
     "name": "stdout",
     "output_type": "stream",
     "text": [
      "TVMModGetFunction:__tvm_main__\n"
     ]
    }
   ],
   "source": [
    "# Get the remote device context\n",
    "ctx = remote.ext_dev(0)\n",
    "\n",
    "# Initialize the A and B arrays randomly in the int range of (-128, 128]\n",
    "A_orig = np.random.randint(-128, 128, size=(o * env.BATCH, m * env.BLOCK_OUT)).astype(A.dtype)\n",
    "B_orig = np.random.randint(-128, 128, size=(o * env.BATCH, m * env.BLOCK_OUT)).astype(B.dtype)\n",
    "\n",
    "# Apply packing to the A and B arrays from a 2D to a 4D packed layout\n",
    "A_packed = A_orig.reshape(o, env.BATCH, m, env.BLOCK_OUT).transpose((0, 2, 1, 3))\n",
    "B_packed = B_orig.reshape(o, env.BATCH, m, env.BLOCK_OUT).transpose((0, 2, 1, 3))\n",
    "\n",
    "# Format the input/output arrays with tvm.nd.array to the DLPack standard\n",
    "A_nd = tvm.nd.array(A_packed, ctx)\n",
    "B_nd = tvm.nd.array(B_packed, ctx)\n",
    "C_nd = tvm.nd.array(np.zeros((o, m, env.BATCH, env.BLOCK_OUT)).astype(C.dtype), ctx)\n",
    "\n",
    "# Invoke the module to perform the computation\n",
    "f(A_nd, B_nd, C_nd)"
   ]
  },
  {
   "cell_type": "markdown",
   "metadata": {},
   "source": [
    "Verifying Correctness\n",
    "---------------------\n",
    "Compute the reference result with numpy and assert that the output of the\n",
    "matrix multiplication indeed is correct\n",
    "\n"
   ]
  },
  {
   "cell_type": "code",
   "execution_count": 17,
   "metadata": {},
   "outputs": [
    {
     "ename": "AttributeError",
     "evalue": "'NDArray' object has no attribute 'numpy'",
     "output_type": "error",
     "traceback": [
      "\u001b[0;31m---------------------------------------------------------------------------\u001b[0m",
      "\u001b[0;31mAttributeError\u001b[0m                            Traceback (most recent call last)",
      "\u001b[0;32m<ipython-input-17-af8456f3c338>\u001b[0m in \u001b[0;36m<module>\u001b[0;34m\u001b[0m\n\u001b[1;32m      2\u001b[0m \u001b[0mC_ref\u001b[0m \u001b[0;34m=\u001b[0m \u001b[0;34m(\u001b[0m\u001b[0mA_orig\u001b[0m\u001b[0;34m.\u001b[0m\u001b[0mastype\u001b[0m\u001b[0;34m(\u001b[0m\u001b[0menv\u001b[0m\u001b[0;34m.\u001b[0m\u001b[0macc_dtype\u001b[0m\u001b[0;34m)\u001b[0m \u001b[0;34m+\u001b[0m \u001b[0mB_orig\u001b[0m\u001b[0;34m.\u001b[0m\u001b[0mastype\u001b[0m\u001b[0;34m(\u001b[0m\u001b[0menv\u001b[0m\u001b[0;34m.\u001b[0m\u001b[0macc_dtype\u001b[0m\u001b[0;34m)\u001b[0m\u001b[0;34m)\u001b[0m\u001b[0;34m.\u001b[0m\u001b[0mastype\u001b[0m\u001b[0;34m(\u001b[0m\u001b[0mC\u001b[0m\u001b[0;34m.\u001b[0m\u001b[0mdtype\u001b[0m\u001b[0;34m)\u001b[0m\u001b[0;34m\u001b[0m\u001b[0;34m\u001b[0m\u001b[0m\n\u001b[1;32m      3\u001b[0m \u001b[0mC_ref\u001b[0m \u001b[0;34m=\u001b[0m \u001b[0mC_ref\u001b[0m\u001b[0;34m.\u001b[0m\u001b[0mreshape\u001b[0m\u001b[0;34m(\u001b[0m\u001b[0mo\u001b[0m\u001b[0;34m,\u001b[0m \u001b[0menv\u001b[0m\u001b[0;34m.\u001b[0m\u001b[0mBATCH\u001b[0m\u001b[0;34m,\u001b[0m \u001b[0mm\u001b[0m\u001b[0;34m,\u001b[0m \u001b[0menv\u001b[0m\u001b[0;34m.\u001b[0m\u001b[0mBLOCK_OUT\u001b[0m\u001b[0;34m)\u001b[0m\u001b[0;34m.\u001b[0m\u001b[0mtranspose\u001b[0m\u001b[0;34m(\u001b[0m\u001b[0;34m(\u001b[0m\u001b[0;36m0\u001b[0m\u001b[0;34m,\u001b[0m \u001b[0;36m2\u001b[0m\u001b[0;34m,\u001b[0m \u001b[0;36m1\u001b[0m\u001b[0;34m,\u001b[0m \u001b[0;36m3\u001b[0m\u001b[0;34m)\u001b[0m\u001b[0;34m)\u001b[0m\u001b[0;34m\u001b[0m\u001b[0;34m\u001b[0m\u001b[0m\n\u001b[0;32m----> 4\u001b[0;31m \u001b[0mnp\u001b[0m\u001b[0;34m.\u001b[0m\u001b[0mtesting\u001b[0m\u001b[0;34m.\u001b[0m\u001b[0massert_equal\u001b[0m\u001b[0;34m(\u001b[0m\u001b[0mC_ref\u001b[0m\u001b[0;34m,\u001b[0m \u001b[0mC_nd\u001b[0m\u001b[0;34m.\u001b[0m\u001b[0mnumpy\u001b[0m\u001b[0;34m(\u001b[0m\u001b[0;34m)\u001b[0m\u001b[0;34m)\u001b[0m\u001b[0;34m\u001b[0m\u001b[0;34m\u001b[0m\u001b[0m\n\u001b[0m\u001b[1;32m      5\u001b[0m \u001b[0mprint\u001b[0m\u001b[0;34m(\u001b[0m\u001b[0;34m\"Successful vector add test!\"\u001b[0m\u001b[0;34m)\u001b[0m\u001b[0;34m\u001b[0m\u001b[0;34m\u001b[0m\u001b[0m\n",
      "\u001b[0;31mAttributeError\u001b[0m: 'NDArray' object has no attribute 'numpy'"
     ]
    }
   ],
   "source": [
    "# Compute reference result with numpy\n",
    "C_ref = (A_orig.astype(env.acc_dtype) + B_orig.astype(env.acc_dtype)).astype(C.dtype)\n",
    "C_ref = C_ref.reshape(o, env.BATCH, m, env.BLOCK_OUT).transpose((0, 2, 1, 3))\n",
    "np.testing.assert_equal(C_ref, C_nd.numpy())\n",
    "print(\"Successful vector add test!\")"
   ]
  },
  {
   "cell_type": "markdown",
   "metadata": {},
   "source": [
    "Summary\n",
    "-------\n",
    "This tutorial provides a walk-through of TVM for programming the\n",
    "deep learning accelerator VTA with a simple vector addition example.\n",
    "The general workflow includes:\n",
    "\n",
    "- Programming the FPGA with the VTA bitstream over RPC.\n",
    "- Describing the vector add computation via a series of computations.\n",
    "- Describing how we want to perform the computation using schedule primitives.\n",
    "- Compiling the function to the VTA target.\n",
    "- Running the compiled module and verifying it against a numpy implementation.\n",
    "\n",
    "You are more than welcome to check other examples out and tutorials\n",
    "to learn more about the supported operations, schedule primitives\n",
    "and other features supported by TVM to program VTA.\n",
    "\n",
    "\n"
   ]
  }
 ],
 "metadata": {
  "kernelspec": {
   "display_name": "Python 3",
   "language": "python",
   "name": "python3"
  },
  "language_info": {
   "codemirror_mode": {
    "name": "ipython",
    "version": 3
   },
   "file_extension": ".py",
   "mimetype": "text/x-python",
   "name": "python",
   "nbconvert_exporter": "python",
   "pygments_lexer": "ipython3",
   "version": "3.8.5"
  }
 },
 "nbformat": 4,
 "nbformat_minor": 1
}
